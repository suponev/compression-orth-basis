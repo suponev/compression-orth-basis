{
  "nbformat": 4,
  "nbformat_minor": 0,
  "metadata": {
    "colab": {
      "name": "Untitled0.ipynb",
      "version": "0.3.2",
      "provenance": [],
      "collapsed_sections": [],
      "include_colab_link": true
    },
    "kernelspec": {
      "name": "python3",
      "display_name": "Python 3"
    }
  },
  "cells": [
    {
      "cell_type": "markdown",
      "metadata": {
        "id": "view-in-github",
        "colab_type": "text"
      },
      "source": [
        "<a href=\"https://colab.research.google.com/github/suponev/compression-orth-basis/blob/master/main.ipynb\" target=\"_parent\"><img src=\"https://colab.research.google.com/assets/colab-badge.svg\" alt=\"Open In Colab\"/></a>"
      ]
    },
    {
      "metadata": {
        "id": "LbRrvpzuZZky",
        "colab_type": "code",
        "outputId": "798dba5e-5bcf-409e-932e-b9d68e14b66d",
        "colab": {
          "base_uri": "https://localhost:8080/",
          "height": 68
        }
      },
      "cell_type": "code",
      "source": [
        "import random\n",
        "import numpy as np \n",
        "\n",
        "N,M = 2,1\n",
        "\n",
        "def matrix():\n",
        "    matrix = [[random.randrange(1,10) for y in range(N)] for x in range(N)]\n",
        "    matrix[1][1] = (1 + (matrix[1][0]*matrix[0][1]))/matrix[0][0];\n",
        "    return matrix\n",
        "\n",
        "\n",
        "signal = [[random.randrange(0,10) for y in range(M)] for x in range(N)]\n",
        "print(signal)\n",
        "matrix = matrix()\n",
        "\n",
        "trns = np.matmul(matrix,signal )\n",
        "trns[0] =0\n",
        "\n",
        "result = np.matmul(np.linalg.inv(matrix),trns )\n",
        "\n",
        "print(result)\n",
        "\n"
      ],
      "execution_count": 48,
      "outputs": [
        {
          "output_type": "stream",
          "text": [
            "[[5], [8]]\n",
            "[[-679.]\n",
            " [ 776.]]\n"
          ],
          "name": "stdout"
        }
      ]
    }
  ]
}