{
  "nbformat": 4,
  "nbformat_minor": 0,
  "metadata": {
    "colab": {
      "name": "Untitled0.ipynb",
      "version": "0.3.2",
      "provenance": [],
      "collapsed_sections": [],
      "include_colab_link": true
    },
    "kernelspec": {
      "name": "python3",
      "display_name": "Python 3"
    }
  },
  "cells": [
    {
      "cell_type": "markdown",
      "metadata": {
        "id": "view-in-github",
        "colab_type": "text"
      },
      "source": [
        "<a href=\"https://colab.research.google.com/github/suponev/compression-orth-basis/blob/master/main.ipynb\" target=\"_parent\"><img src=\"https://colab.research.google.com/assets/colab-badge.svg\" alt=\"Open In Colab\"/></a>"
      ]
    },
    {
      "metadata": {
        "id": "LbRrvpzuZZky",
        "colab_type": "code",
        "colab": {
          "base_uri": "https://localhost:8080/",
          "height": 170
        },
        "outputId": "5b8b13b8-4b06-4223-f313-38b4ba4b51ae"
      },
      "cell_type": "code",
      "source": [
        "import random\n",
        "import numpy as np \n",
        "\n",
        "N,M = 2,1\n",
        "signal = [[random.randrange(0,10) for y in range(M)] for x in range(N)]\n",
        "matrix = [[random.randrange(0,10) for y in range(N)] for x in range(N)]\n",
        "\n",
        "\n",
        "print(signal)\n",
        "\n",
        "for im in range(N):\n",
        "   print(matrix[im])\n",
        "\n",
        "\n",
        "result = np.matmul(matrix,signal )\n",
        "\n",
        "for im in range(N):\n",
        "   print(result[im])\n",
        "    \n",
        "print(np.linalg.inv(matrix))\n",
        "print(np.matmul(np.linalg.inv(matrix),result ))"
      ],
      "execution_count": 32,
      "outputs": [
        {
          "output_type": "stream",
          "text": [
            "[[1], [6]]\n",
            "[5, 8]\n",
            "[9, 8]\n",
            "[53]\n",
            "[57]\n",
            "[[-0.25     0.25   ]\n",
            " [ 0.28125 -0.15625]]\n",
            "[[1.]\n",
            " [6.]]\n"
          ],
          "name": "stdout"
        }
      ]
    }
  ]
}